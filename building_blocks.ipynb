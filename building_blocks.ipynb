{
  "nbformat": 4,
  "nbformat_minor": 0,
  "metadata": {
    "colab": {
      "name": "building_blocks.ipynb",
      "provenance": [],
      "authorship_tag": "ABX9TyOhX1mgRNJ851msT5HC1SuH",
      "include_colab_link": true
    },
    "kernelspec": {
      "name": "python3",
      "display_name": "Python 3"
    }
  },
  "cells": [
    {
      "cell_type": "markdown",
      "metadata": {
        "id": "view-in-github",
        "colab_type": "text"
      },
      "source": [
        "<a href=\"https://colab.research.google.com/github/charuj/transformer_colab/blob/master/building_blocks.ipynb\" target=\"_parent\"><img src=\"https://colab.research.google.com/assets/colab-badge.svg\" alt=\"Open In Colab\"/></a>"
      ]
    },
    {
      "cell_type": "code",
      "metadata": {
        "id": "-lSsWVQDXnoW",
        "colab_type": "code",
        "colab": {}
      },
      "source": [
        "%tensorflow_version 2.x\n",
        "import tensorflow as tf\n",
        "import numpy as np \n"
      ],
      "execution_count": 1,
      "outputs": []
    },
    {
      "cell_type": "code",
      "metadata": {
        "id": "yyhcl6FeiKDv",
        "colab_type": "code",
        "colab": {}
      },
      "source": [
        "class PositionalEncoder(tf.keras.layers.Layer):\n",
        "  def __init__(self, position, d_model):\n",
        "    super(PositionalEncoder, self).__init__()\n",
        "    self.position= position \n",
        "    self.d_model= d_model\n",
        "    self.positional_encoding= self.get_positional_encoding()\n",
        "\n",
        "\n",
        "  def get_angles(self, pos, i):\n",
        "    angles= 1 / np.power(10000, (2 * (i//2)) / np.float32(self.d_model))\n",
        "    return pos * angles\n",
        "  \n",
        "  def get_positional_encoding(self):\n",
        "    angle_rads = self.get_angles(np.arange(self.position)[:, np.newaxis],\n",
        "                          np.arange(self.d_model)[np.newaxis, :])\n",
        "  \n",
        "    # apply sin to even indices in the array; 2i\n",
        "    angle_rads[:, 0::2] = np.sin(angle_rads[:, 0::2])\n",
        "    # apply cos to odd indices in the array; 2i+1\n",
        "    angle_rads[:, 1::2] = np.cos(angle_rads[:, 1::2])\n",
        "    pos_encoding = angle_rads[np.newaxis, ...]\n",
        "    return tf.cast(pos_encoding, dtype=tf.float32)\n"
      ],
      "execution_count": 20,
      "outputs": []
    },
    {
      "cell_type": "code",
      "metadata": {
        "id": "xyFrmW1ylWF1",
        "colab_type": "code",
        "colab": {}
      },
      "source": [
        "class FeedForwardNetwork(tf.keras.layers.Layer):\n",
        "  def __init__(self, neurons, d_model):\n",
        "    super(FeedForwardNetwork, self).__init__()\n",
        "    self.neurons= neurons \n",
        "    self.d_model= d_model #this can come from the params \n",
        "    self.layer1= tf.keras.layers.Dense(self.neurons, activation='relu'),  # dimension is (batch_size, seq_len, num_neurons) ???\n",
        "    self.layer2=  tf.keras.layers.Dense(d_model) #dimension is (batch_size, seq len, d_model)\n",
        "\n",
        "\n",
        "  def run(self, x):\n",
        "    l1= self.layer1(x)\n",
        "    l2= self.layer2(l1)\n",
        "    return l2 \n",
        "\n",
        "\n",
        "\n",
        "\n",
        "\n",
        "    "
      ],
      "execution_count": 4,
      "outputs": []
    },
    {
      "cell_type": "code",
      "metadata": {
        "id": "OmtPH0ddrvJg",
        "colab_type": "code",
        "colab": {
          "base_uri": "https://localhost:8080/",
          "height": 34
        },
        "outputId": "26dff3ca-5b8a-4902-f811-151b66a08349"
      },
      "source": [
        "sample_ffn = FeedForwardNetwork(512, 2048)\n",
        "sample_ffn(tf.random.uniform((64, 50, 512))).shape"
      ],
      "execution_count": 5,
      "outputs": [
        {
          "output_type": "execute_result",
          "data": {
            "text/plain": [
              "TensorShape([64, 50, 512])"
            ]
          },
          "metadata": {
            "tags": []
          },
          "execution_count": 5
        }
      ]
    },
    {
      "cell_type": "code",
      "metadata": {
        "id": "FLcNUauvxWPI",
        "colab_type": "code",
        "colab": {}
      },
      "source": [
        ""
      ],
      "execution_count": null,
      "outputs": []
    },
    {
      "cell_type": "code",
      "metadata": {
        "id": "bIKbNha8W3aj",
        "colab_type": "code",
        "colab": {}
      },
      "source": [
        "\n",
        "\n",
        "\n",
        "\n",
        "\n",
        "\n",
        "\n",
        "\n",
        "\n",
        "\n",
        "def scaled_dot_product_attention(query, key, value, mask= None):\n",
        "  \"\"\" \n",
        "  Compute scaled dot product attention \n",
        "  query: shape (..., seqlen_q, depth_k)\n",
        "  key: shape(..., seqlen_k, depth_k)\n",
        "  value: shape(..., seqlen_v, depth_v)\n",
        "  mask: float tensor, shape (..., seqlen_q, seqlen_k)\n",
        "  Returns: outputs  (..., seqlen_q, depth_v) , attention weights (..., seqlen_q, seqlen_k)\n",
        "  \"\"\"\n",
        "  #Matrix multiplication of q & k\n",
        "  qk= tf.matmul(q, k, transpose_b= True)\n",
        "  #scale \n",
        "  d_k= tf.cast(tf.shape(key)[-1], tf.float32)\n",
        "  scaled_logits= qk/tf.sqrt(d_k)\n",
        "  #add mask to the tensor \n",
        "  if mask is not None:\n",
        "    scaled_logits += (mask * -1e-9) #mask is multiplied with scaler that is close to negative infinity \n",
        "  \n",
        "  #softmax \n",
        "  #shape of logits: (..., seqlen_q, seqlen_k)\n",
        "  attention_weights =tf.nn.softmax(scaled_logits, axis=-1) #normalize on last axis, seqlen_k\n",
        "  outputs= tf.matmul(attention_weights, value) # becomes shape (..., seqlen_q, depth_v)\n",
        "\n",
        "  return outputs, attention_weights\n",
        "\n",
        "\n",
        "class MultiheadAttention(tf.keras.layers.Layer):\n",
        "  \"\"\"\n",
        "  Implement MH attention from section 3.2.2\n",
        "  \"\"\"\n",
        "  def __init__(self, num_heads, d_model):\n",
        "    super(MultiheadAttention, self).__init__()\n",
        "    self.num_heads= num_heads\n",
        "    self.d_model= d_model\n",
        "    self.depth= d_model\n",
        "    # assert d_model % self.num_heads == 0 \n",
        "\n",
        "    #projections\n",
        "    self.wq= tf.keras.layers.Dense(self.d_model)\n",
        "    self.wk= tf.keras.layers.Dense(self.d_model)\n",
        "    self.wv= tf.keras.layers.Dense(self.d_model)\n",
        "\n",
        "    self.dense= tf.keras.layers.Dense(self.d_model)\n",
        "\n",
        "\n",
        "\n",
        "\n",
        "\n",
        "\n",
        "\n",
        "\n",
        "\n",
        "  \n",
        "\n"
      ],
      "execution_count": 1,
      "outputs": []
    }
  ]
}