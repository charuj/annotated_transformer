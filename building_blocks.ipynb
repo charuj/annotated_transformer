{
  "nbformat": 4,
  "nbformat_minor": 0,
  "metadata": {
    "colab": {
      "name": "building_blocks.ipynb",
      "provenance": [],
      "authorship_tag": "ABX9TyP9i2b/jFJi+90YUPZiXGrg",
      "include_colab_link": true
    },
    "kernelspec": {
      "name": "python3",
      "display_name": "Python 3"
    }
  },
  "cells": [
    {
      "cell_type": "markdown",
      "metadata": {
        "id": "view-in-github",
        "colab_type": "text"
      },
      "source": [
        "<a href=\"https://colab.research.google.com/github/charuj/annotated_transformer/blob/master/building_blocks.ipynb\" target=\"_parent\"><img src=\"https://colab.research.google.com/assets/colab-badge.svg\" alt=\"Open In Colab\"/></a>"
      ]
    },
    {
      "cell_type": "code",
      "metadata": {
        "id": "-lSsWVQDXnoW",
        "colab_type": "code",
        "colab": {}
      },
      "source": [
        "%tensorflow_version 2.x\n",
        "import tensorflow as tf\n"
      ],
      "execution_count": null,
      "outputs": []
    },
    {
      "cell_type": "code",
      "metadata": {
        "id": "bIKbNha8W3aj",
        "colab_type": "code",
        "colab": {}
      },
      "source": [
        "class LayerNorm:\n",
        "  \"\"\" Applies layer normalization to sublayer. \n",
        "  Based on https://arxiv.org/abs/1607.06450\n",
        "  \n",
        "  set :\n",
        "  epsilon= 1e-6 \n",
        "  scope= \"ln\"\n",
        "  \"\"\"\n",
        "\n",
        "  def __init__(self, inputs, epsilon, scope):\n",
        "    super(LayerNorm, self).__init__()\n",
        "    self.inputs= inputs\n",
        "    self.eps= epsilon \n",
        "    self.scope= scope \n",
        "\n",
        "  def ln(self):\n",
        "    ## CAN BE DONE IN KERAS INSTEAD \n",
        "\n",
        "\n",
        "\n",
        "\n",
        "def scaled_dot_product_attention(query, key, value, mask= None):\n",
        "  \"\"\" Compute scaled dot product attention \n",
        "  query: shape (..., seqlen_q, depth_k)\n",
        "  key: shape(..., seqlen_k, depth_k)\n",
        "  value: shape(..., seqlen_v, depth_v)\n",
        "  mask: float tensor, shape (..., seqlen_q, seqlen_k)\n",
        "\n",
        "  \"\"\"\n",
        "  #Matrix multiplication of q & k\n",
        "  qk= tf.matmul(q, k, transpose_b= True)\n",
        "  #scale \n",
        "  d_k= tf.cast(tf.shape(key)[-1], tf.float32)\n",
        "  scaled_logits= qk/tf.sqrt(d_k)\n",
        "  #add mask to the tensor \n",
        "  if mask is not None:\n",
        "    scaled_logits += (mask * -1e-9) #mask is multiplied with scaler that is close to negative infinity \n",
        "  \n",
        "  #softmax \n",
        "  #shape of logits: (..., seqlen_q, seqlen_k)\n",
        "  attention_weights =tf.nn.softmax(scaled_logits, axis=-1) #normalize on last axis, seqlen_k\n",
        "  outputs= tf.matmul(attention_weights, value) # becomes shape (..., seqlen_q, depth_v)\n",
        "\n",
        "  return outputs, attention_weights\n",
        "\n",
        "\n",
        "\n",
        "\n",
        "\n",
        "\n",
        "  \n",
        "\n"
      ],
      "execution_count": null,
      "outputs": []
    }
  ]
}