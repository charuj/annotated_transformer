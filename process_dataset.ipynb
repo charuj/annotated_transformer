{
  "cells": [
    {
      "cell_type": "markdown",
      "metadata": {
        "id": "view-in-github",
        "colab_type": "text"
      },
      "source": [
        "<a href=\"https://colab.research.google.com/github/charuj/transformer_colab/blob/master/building_blocks.ipynb\" target=\"_parent\"><img src=\"https://colab.research.google.com/assets/colab-badge.svg\" alt=\"Open In Colab\"/></a>"
      ]
    },
    {
      "cell_type": "code",
      "metadata": {
        "id": "-lSsWVQDXnoW",
        "colab_type": "code",
        "colab": {}
      },
      "source": [
        "# %tensorflow_version 2.x\n",
        "import tensorflow as tf\n",
        "import numpy as np \n"
      ],
      "execution_count": 5,
      "outputs": []
    },
    {
      "cell_type": "code",
      "execution_count": null,
      "metadata": {},
      "outputs": [],
      "source": [
        "# How the embedding data was processed \n",
        "#  Sentences were encoded using byte-pair encoding [3], which has a shared sourcetarget vocabulary of about 37000 tokens. For English-French, we used the significantly larger WMT\n",
        "# 2014 English-French dataset consisting of 36M sentences and split tokens into a 32000 word-piece\n",
        "# vocabulary [38]. \n",
        "\n",
        "# WHAT DOES IT MEAN TO TOKENIZE THE DATASET \n",
        "# HOW DO YOU DENOTE THE START AND END OF THE SENTENCE?\n",
        "# HOW DO YOU TYPICALLY PROCESS NLP data"
      ]
    },
    {
      "cell_type": "code",
      "execution_count": null,
      "metadata": {},
      "outputs": [],
      "source": []
    },
    {
      "cell_type": "code",
      "execution_count": null,
      "metadata": {},
      "outputs": [],
      "source": []
    }
  ],
  "metadata": {
    "colab": {
      "name": "building_blocks.ipynb",
      "provenance": [],
      "authorship_tag": "ABX9TyOhX1mgRNJ851msT5HC1SuH",
      "include_colab_link": true
    },
    "kernelspec": {
      "name": "python_defaultSpec_1594855287628",
      "display_name": "Python 3.6.7 64-bit"
    }
  },
  "nbformat": 4,
  "nbformat_minor": 0
}